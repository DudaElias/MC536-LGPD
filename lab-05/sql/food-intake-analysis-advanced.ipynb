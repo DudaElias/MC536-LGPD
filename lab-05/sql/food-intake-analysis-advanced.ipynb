{
 "cells": [
  {
   "cell_type": "markdown",
   "metadata": {},
   "source": [
    "# Análise com SQL Avançado\n",
    "## U.S. EPA Food Commodity Intake Database (FCID)\n",
    "### [https://fcid.foodrisk.org/](https://fcid.foodrisk.org/)"
   ]
  },
  {
   "cell_type": "markdown",
   "metadata": {},
   "source": [
    "Ativando uma conexão de banco de dados em memória usando o SGBD H2:"
   ]
  },
  {
   "cell_type": "code",
   "execution_count": 1,
   "metadata": {
    "vscode": {
     "languageId": "sql"
    }
   },
   "outputs": [],
   "source": [
    "%defaultDatasource jdbc:h2:mem:db"
   ]
  },
  {
   "cell_type": "markdown",
   "metadata": {},
   "source": [
    "# Importando Tabelas do FCID"
   ]
  },
  {
   "cell_type": "code",
   "execution_count": 2,
   "metadata": {
    "vscode": {
     "languageId": "sql"
    }
   },
   "outputs": [],
   "source": [
    "DROP TABLE IF EXISTS Crop_Group;\n",
    "DROP TABLE IF EXISTS FCID_Description;\n",
    "DROP TABLE IF EXISTS Recipes;\n",
    "DROP TABLE IF EXISTS Intake;\n",
    "\n",
    "CREATE TABLE Crop_Group (\n",
    "  CGN VARCHAR(2),\n",
    "  CGL VARCHAR(6),\n",
    "  Crop_Group_Description VARCHAR(80),\n",
    "  PRIMARY KEY (CGL)\n",
    ") AS SELECT\n",
    "  CGN, CGL, Crop_Group_Description\n",
    "FROM CSVREAD('../data/food-intake/basics/FCID_Cropgroup_Description.csv');\n",
    "\n",
    "CREATE TABLE FCID_Description (\n",
    "  CGN VARCHAR(2),\n",
    "  CG_Subgroup VARCHAR(6),\n",
    "  FCID_Code VARCHAR(10),\n",
    "  FCID_Desc VARCHAR(55),\n",
    "  PRIMARY KEY (FCID_Code),\n",
    ") AS SELECT\n",
    "  cgn, CG_Subgroup, FCID_Code, FCID_Desc\n",
    "FROM CSVREAD('../data/food-intake/basics/FCID_Code_Description.csv');\n",
    "\n",
    "CREATE TABLE Recipes (\n",
    "  Food_Code VARCHAR(8),\n",
    "  Mod_Code VARCHAR(8),\n",
    "  Ingredient_Num TINYINT,\n",
    "  FCID_Code VARCHAR(10),\n",
    "  Cooked_Status TINYINT,\n",
    "  Food_Form TINYINT,\n",
    "  Cooking_Method TINYINT,\n",
    "  Commodity_Weight DECIMAL(5, 2),\n",
    "  CSFII_9498_IND TINYINT,\n",
    "  WWEIA_9904_IND TINYINT,\n",
    "  WWEIA_0510_IND TINYINT,\n",
    "  PRIMARY KEY(Food_Code, Mod_Code, Ingredient_Num),\n",
    "  FOREIGN KEY(FCID_Code)\n",
    "    REFERENCES FCID_Description(FCID_Code)\n",
    "      ON DELETE NO ACTION\n",
    "      ON UPDATE NO ACTION\n",
    ") AS SELECT\n",
    "  Food_Code, Mod_Code, Ingredient_Num, FCID_Code, Cooked_Status, Food_Form, Cooking_Method,\n",
    "  Commodity_Weight, CSFII_9498_IND, WWEIA_9904_IND, WWEIA_0510_IND\n",
    "FROM CSVREAD('../data/food-intake/recipes/Recipes_WWEIA_FCID_0510.csv');\n",
    "\n",
    "CREATE TABLE Intake (\n",
    "  SeqN INTEGER NOT NULL,\n",
    "  DayCode TINYINT NOT NULL,\n",
    "  DraBF TINYINT,\n",
    "  FCID_Code VARCHAR(10),\n",
    "  Cooked_Status TINYINT,\n",
    "  Food_Form TINYINT,\n",
    "  Cooking_Method TINYINT,\n",
    "  Intake DECIMAL(13,7),\n",
    "  Intake_BW DECIMAL(13,10),\n",
    "  PRIMARY KEY(SeqN, DayCode, FCID_Code, Cooked_Status, Food_Form, Cooking_Method),\n",
    "  FOREIGN KEY(FCID_Code)\n",
    "    REFERENCES FCID_Description(FCID_Code)\n",
    "      ON DELETE NO ACTION\n",
    "      ON UPDATE NO ACTION\n",
    ") AS SELECT\n",
    "  SEQN, DAYCODE, DRABF, FCID_Code, Cooked_Status, Food_Form, Cooking_Method, Intake,Intake_BW\n",
    "FROM CSVREAD('../data/food-intake/consumption/Commodity_CSFFM_Intake_0510-cropped.csv');"
   ]
  },
  {
   "cell_type": "markdown",
   "metadata": {},
   "source": [
    "# Visualizando as Tabelas"
   ]
  },
  {
   "cell_type": "code",
   "execution_count": 3,
   "metadata": {
    "vscode": {
     "languageId": "sql"
    }
   },
   "outputs": [
    {
     "data": {
      "application/vnd.code.notebook.error": {
       "message": "INVALID mime type: method. Must be in the format \"type/subtype[;optionalparameter]\"",
       "name": "Error",
       "stack": "Error: INVALID mime type: method. Must be in the format \"type/subtype[;optionalparameter]\"\n\tat new Gt (c:\\Users\\pedro\\AppData\\Local\\Programs\\Microsoft VS Code\\resources\\app\\out\\vs\\workbench\\api\\node\\extensionHostProcess.js:103:44713)\n\tat Gt.text (c:\\Users\\pedro\\AppData\\Local\\Programs\\Microsoft VS Code\\resources\\app\\out\\vs\\workbench\\api\\node\\extensionHostProcess.js:103:44525)\n\tat c (c:\\Users\\pedro\\AppData\\Local\\Programs\\Microsoft VS Code\\resources\\app\\extensions\\ipynb\\dist\\ipynbMain.js:1:143076)\n\tat f (c:\\Users\\pedro\\AppData\\Local\\Programs\\Microsoft VS Code\\resources\\app\\extensions\\ipynb\\dist\\ipynbMain.js:1:143852)\n\tat h (c:\\Users\\pedro\\AppData\\Local\\Programs\\Microsoft VS Code\\resources\\app\\extensions\\ipynb\\dist\\ipynbMain.js:1:144591)\n\tat Array.map (<anonymous>)\n\tat c:\\Users\\pedro\\AppData\\Local\\Programs\\Microsoft VS Code\\resources\\app\\extensions\\ipynb\\dist\\ipynbMain.js:1:145700\n\tat c:\\Users\\pedro\\AppData\\Local\\Programs\\Microsoft VS Code\\resources\\app\\extensions\\ipynb\\dist\\ipynbMain.js:1:146017\n\tat c:\\Users\\pedro\\AppData\\Local\\Programs\\Microsoft VS Code\\resources\\app\\extensions\\ipynb\\dist\\ipynbMain.js:1:146024\n\tat Array.map (<anonymous>)\n\tat e.$d (c:\\Users\\pedro\\AppData\\Local\\Programs\\Microsoft VS Code\\resources\\app\\extensions\\ipynb\\dist\\ipynbMain.js:1:145276)\n\tat e.$m.deserializeNotebook (c:\\Users\\pedro\\AppData\\Local\\Programs\\Microsoft VS Code\\resources\\app\\extensions\\ipynb\\dist\\ipynbMain.js:1:156884)\n\tat t.$dataToNotebook (c:\\Users\\pedro\\AppData\\Local\\Programs\\Microsoft VS Code\\resources\\app\\out\\vs\\workbench\\api\\node\\extensionHostProcess.js:109:91559)\n\tat i.N (c:\\Users\\pedro\\AppData\\Local\\Programs\\Microsoft VS Code\\resources\\app\\out\\vs\\workbench\\api\\node\\extensionHostProcess.js:116:10813)\n\tat i.M (c:\\Users\\pedro\\AppData\\Local\\Programs\\Microsoft VS Code\\resources\\app\\out\\vs\\workbench\\api\\node\\extensionHostProcess.js:116:10579)\n\tat i.H (c:\\Users\\pedro\\AppData\\Local\\Programs\\Microsoft VS Code\\resources\\app\\out\\vs\\workbench\\api\\node\\extensionHostProcess.js:116:9621)\n\tat i.G (c:\\Users\\pedro\\AppData\\Local\\Programs\\Microsoft VS Code\\resources\\app\\out\\vs\\workbench\\api\\node\\extensionHostProcess.js:116:8875)\n\tat n.value (c:\\Users\\pedro\\AppData\\Local\\Programs\\Microsoft VS Code\\resources\\app\\out\\vs\\workbench\\api\\node\\extensionHostProcess.js:116:7566)\n\tat m.w (c:\\Users\\pedro\\AppData\\Local\\Programs\\Microsoft VS Code\\resources\\app\\out\\vs\\workbench\\api\\node\\extensionHostProcess.js:63:1902)\n\tat m.fire (c:\\Users\\pedro\\AppData\\Local\\Programs\\Microsoft VS Code\\resources\\app\\out\\vs\\workbench\\api\\node\\extensionHostProcess.js:63:2119)\n\tat w.fire (c:\\Users\\pedro\\AppData\\Local\\Programs\\Microsoft VS Code\\resources\\app\\out\\vs\\workbench\\api\\node\\extensionHostProcess.js:79:13940)\n\tat n.value (c:\\Users\\pedro\\AppData\\Local\\Programs\\Microsoft VS Code\\resources\\app\\out\\vs\\workbench\\api\\node\\extensionHostProcess.js:135:7901)\n\tat m.w (c:\\Users\\pedro\\AppData\\Local\\Programs\\Microsoft VS Code\\resources\\app\\out\\vs\\workbench\\api\\node\\extensionHostProcess.js:63:1902)\n\tat m.fire (c:\\Users\\pedro\\AppData\\Local\\Programs\\Microsoft VS Code\\resources\\app\\out\\vs\\workbench\\api\\node\\extensionHostProcess.js:63:2119)\n\tat w.fire (c:\\Users\\pedro\\AppData\\Local\\Programs\\Microsoft VS Code\\resources\\app\\out\\vs\\workbench\\api\\node\\extensionHostProcess.js:79:13940)\n\tat MessagePortMain.<anonymous> (c:\\Users\\pedro\\AppData\\Local\\Programs\\Microsoft VS Code\\resources\\app\\out\\vs\\workbench\\api\\node\\extensionHostProcess.js:135:6181)\n\tat MessagePortMain.emit (node:events:513:28)\n\tat MessagePortMain._internalPort.emit (node:electron/js2c/utility_init:2:367)"
      },
      "application/vnd.jupyter.widget-view+json": {
       "model_id": "b89a3f80-02b3-4acb-bb7c-5d3d4f855e42",
       "version_major": 2,
       "version_minor": 0
      }
     },
     "metadata": {},
     "output_type": "display_data"
    }
   ],
   "source": [
    "SELECT * FROM Crop_Group LIMIT 10;"
   ]
  },
  {
   "cell_type": "code",
   "execution_count": 4,
   "metadata": {
    "vscode": {
     "languageId": "sql"
    }
   },
   "outputs": [
    {
     "data": {
      "application/vnd.code.notebook.error": {
       "message": "INVALID mime type: method. Must be in the format \"type/subtype[;optionalparameter]\"",
       "name": "Error",
       "stack": "Error: INVALID mime type: method. Must be in the format \"type/subtype[;optionalparameter]\"\n\tat new Gt (c:\\Users\\pedro\\AppData\\Local\\Programs\\Microsoft VS Code\\resources\\app\\out\\vs\\workbench\\api\\node\\extensionHostProcess.js:103:44713)\n\tat Gt.text (c:\\Users\\pedro\\AppData\\Local\\Programs\\Microsoft VS Code\\resources\\app\\out\\vs\\workbench\\api\\node\\extensionHostProcess.js:103:44525)\n\tat c (c:\\Users\\pedro\\AppData\\Local\\Programs\\Microsoft VS Code\\resources\\app\\extensions\\ipynb\\dist\\ipynbMain.js:1:143076)\n\tat f (c:\\Users\\pedro\\AppData\\Local\\Programs\\Microsoft VS Code\\resources\\app\\extensions\\ipynb\\dist\\ipynbMain.js:1:143852)\n\tat h (c:\\Users\\pedro\\AppData\\Local\\Programs\\Microsoft VS Code\\resources\\app\\extensions\\ipynb\\dist\\ipynbMain.js:1:144591)\n\tat Array.map (<anonymous>)\n\tat c:\\Users\\pedro\\AppData\\Local\\Programs\\Microsoft VS Code\\resources\\app\\extensions\\ipynb\\dist\\ipynbMain.js:1:145700\n\tat c:\\Users\\pedro\\AppData\\Local\\Programs\\Microsoft VS Code\\resources\\app\\extensions\\ipynb\\dist\\ipynbMain.js:1:146017\n\tat c:\\Users\\pedro\\AppData\\Local\\Programs\\Microsoft VS Code\\resources\\app\\extensions\\ipynb\\dist\\ipynbMain.js:1:146024\n\tat Array.map (<anonymous>)\n\tat e.$d (c:\\Users\\pedro\\AppData\\Local\\Programs\\Microsoft VS Code\\resources\\app\\extensions\\ipynb\\dist\\ipynbMain.js:1:145276)\n\tat e.$m.deserializeNotebook (c:\\Users\\pedro\\AppData\\Local\\Programs\\Microsoft VS Code\\resources\\app\\extensions\\ipynb\\dist\\ipynbMain.js:1:156884)\n\tat t.$dataToNotebook (c:\\Users\\pedro\\AppData\\Local\\Programs\\Microsoft VS Code\\resources\\app\\out\\vs\\workbench\\api\\node\\extensionHostProcess.js:109:91559)\n\tat i.N (c:\\Users\\pedro\\AppData\\Local\\Programs\\Microsoft VS Code\\resources\\app\\out\\vs\\workbench\\api\\node\\extensionHostProcess.js:116:10813)\n\tat i.M (c:\\Users\\pedro\\AppData\\Local\\Programs\\Microsoft VS Code\\resources\\app\\out\\vs\\workbench\\api\\node\\extensionHostProcess.js:116:10579)\n\tat i.H (c:\\Users\\pedro\\AppData\\Local\\Programs\\Microsoft VS Code\\resources\\app\\out\\vs\\workbench\\api\\node\\extensionHostProcess.js:116:9621)\n\tat i.G (c:\\Users\\pedro\\AppData\\Local\\Programs\\Microsoft VS Code\\resources\\app\\out\\vs\\workbench\\api\\node\\extensionHostProcess.js:116:8875)\n\tat n.value (c:\\Users\\pedro\\AppData\\Local\\Programs\\Microsoft VS Code\\resources\\app\\out\\vs\\workbench\\api\\node\\extensionHostProcess.js:116:7566)\n\tat m.w (c:\\Users\\pedro\\AppData\\Local\\Programs\\Microsoft VS Code\\resources\\app\\out\\vs\\workbench\\api\\node\\extensionHostProcess.js:63:1902)\n\tat m.fire (c:\\Users\\pedro\\AppData\\Local\\Programs\\Microsoft VS Code\\resources\\app\\out\\vs\\workbench\\api\\node\\extensionHostProcess.js:63:2119)\n\tat w.fire (c:\\Users\\pedro\\AppData\\Local\\Programs\\Microsoft VS Code\\resources\\app\\out\\vs\\workbench\\api\\node\\extensionHostProcess.js:79:13940)\n\tat n.value (c:\\Users\\pedro\\AppData\\Local\\Programs\\Microsoft VS Code\\resources\\app\\out\\vs\\workbench\\api\\node\\extensionHostProcess.js:135:7901)\n\tat m.w (c:\\Users\\pedro\\AppData\\Local\\Programs\\Microsoft VS Code\\resources\\app\\out\\vs\\workbench\\api\\node\\extensionHostProcess.js:63:1902)\n\tat m.fire (c:\\Users\\pedro\\AppData\\Local\\Programs\\Microsoft VS Code\\resources\\app\\out\\vs\\workbench\\api\\node\\extensionHostProcess.js:63:2119)\n\tat w.fire (c:\\Users\\pedro\\AppData\\Local\\Programs\\Microsoft VS Code\\resources\\app\\out\\vs\\workbench\\api\\node\\extensionHostProcess.js:79:13940)\n\tat MessagePortMain.<anonymous> (c:\\Users\\pedro\\AppData\\Local\\Programs\\Microsoft VS Code\\resources\\app\\out\\vs\\workbench\\api\\node\\extensionHostProcess.js:135:6181)\n\tat MessagePortMain.emit (node:events:513:28)\n\tat MessagePortMain._internalPort.emit (node:electron/js2c/utility_init:2:367)"
      },
      "application/vnd.jupyter.widget-view+json": {
       "model_id": "9b197073-9158-4939-8e60-adfcfb546c1e",
       "version_major": 2,
       "version_minor": 0
      }
     },
     "metadata": {},
     "output_type": "display_data"
    }
   ],
   "source": [
    "SELECT * FROM FCID_Description LIMIT 10;"
   ]
  },
  {
   "cell_type": "code",
   "execution_count": 5,
   "metadata": {
    "vscode": {
     "languageId": "sql"
    }
   },
   "outputs": [
    {
     "data": {
      "application/vnd.code.notebook.error": {
       "message": "INVALID mime type: method. Must be in the format \"type/subtype[;optionalparameter]\"",
       "name": "Error",
       "stack": "Error: INVALID mime type: method. Must be in the format \"type/subtype[;optionalparameter]\"\n\tat new Gt (c:\\Users\\pedro\\AppData\\Local\\Programs\\Microsoft VS Code\\resources\\app\\out\\vs\\workbench\\api\\node\\extensionHostProcess.js:103:44713)\n\tat Gt.text (c:\\Users\\pedro\\AppData\\Local\\Programs\\Microsoft VS Code\\resources\\app\\out\\vs\\workbench\\api\\node\\extensionHostProcess.js:103:44525)\n\tat c (c:\\Users\\pedro\\AppData\\Local\\Programs\\Microsoft VS Code\\resources\\app\\extensions\\ipynb\\dist\\ipynbMain.js:1:143076)\n\tat f (c:\\Users\\pedro\\AppData\\Local\\Programs\\Microsoft VS Code\\resources\\app\\extensions\\ipynb\\dist\\ipynbMain.js:1:143852)\n\tat h (c:\\Users\\pedro\\AppData\\Local\\Programs\\Microsoft VS Code\\resources\\app\\extensions\\ipynb\\dist\\ipynbMain.js:1:144591)\n\tat Array.map (<anonymous>)\n\tat c:\\Users\\pedro\\AppData\\Local\\Programs\\Microsoft VS Code\\resources\\app\\extensions\\ipynb\\dist\\ipynbMain.js:1:145700\n\tat c:\\Users\\pedro\\AppData\\Local\\Programs\\Microsoft VS Code\\resources\\app\\extensions\\ipynb\\dist\\ipynbMain.js:1:146017\n\tat c:\\Users\\pedro\\AppData\\Local\\Programs\\Microsoft VS Code\\resources\\app\\extensions\\ipynb\\dist\\ipynbMain.js:1:146024\n\tat Array.map (<anonymous>)\n\tat e.$d (c:\\Users\\pedro\\AppData\\Local\\Programs\\Microsoft VS Code\\resources\\app\\extensions\\ipynb\\dist\\ipynbMain.js:1:145276)\n\tat e.$m.deserializeNotebook (c:\\Users\\pedro\\AppData\\Local\\Programs\\Microsoft VS Code\\resources\\app\\extensions\\ipynb\\dist\\ipynbMain.js:1:156884)\n\tat t.$dataToNotebook (c:\\Users\\pedro\\AppData\\Local\\Programs\\Microsoft VS Code\\resources\\app\\out\\vs\\workbench\\api\\node\\extensionHostProcess.js:109:91559)\n\tat i.N (c:\\Users\\pedro\\AppData\\Local\\Programs\\Microsoft VS Code\\resources\\app\\out\\vs\\workbench\\api\\node\\extensionHostProcess.js:116:10813)\n\tat i.M (c:\\Users\\pedro\\AppData\\Local\\Programs\\Microsoft VS Code\\resources\\app\\out\\vs\\workbench\\api\\node\\extensionHostProcess.js:116:10579)\n\tat i.H (c:\\Users\\pedro\\AppData\\Local\\Programs\\Microsoft VS Code\\resources\\app\\out\\vs\\workbench\\api\\node\\extensionHostProcess.js:116:9621)\n\tat i.G (c:\\Users\\pedro\\AppData\\Local\\Programs\\Microsoft VS Code\\resources\\app\\out\\vs\\workbench\\api\\node\\extensionHostProcess.js:116:8875)\n\tat n.value (c:\\Users\\pedro\\AppData\\Local\\Programs\\Microsoft VS Code\\resources\\app\\out\\vs\\workbench\\api\\node\\extensionHostProcess.js:116:7566)\n\tat m.w (c:\\Users\\pedro\\AppData\\Local\\Programs\\Microsoft VS Code\\resources\\app\\out\\vs\\workbench\\api\\node\\extensionHostProcess.js:63:1902)\n\tat m.fire (c:\\Users\\pedro\\AppData\\Local\\Programs\\Microsoft VS Code\\resources\\app\\out\\vs\\workbench\\api\\node\\extensionHostProcess.js:63:2119)\n\tat w.fire (c:\\Users\\pedro\\AppData\\Local\\Programs\\Microsoft VS Code\\resources\\app\\out\\vs\\workbench\\api\\node\\extensionHostProcess.js:79:13940)\n\tat n.value (c:\\Users\\pedro\\AppData\\Local\\Programs\\Microsoft VS Code\\resources\\app\\out\\vs\\workbench\\api\\node\\extensionHostProcess.js:135:7901)\n\tat m.w (c:\\Users\\pedro\\AppData\\Local\\Programs\\Microsoft VS Code\\resources\\app\\out\\vs\\workbench\\api\\node\\extensionHostProcess.js:63:1902)\n\tat m.fire (c:\\Users\\pedro\\AppData\\Local\\Programs\\Microsoft VS Code\\resources\\app\\out\\vs\\workbench\\api\\node\\extensionHostProcess.js:63:2119)\n\tat w.fire (c:\\Users\\pedro\\AppData\\Local\\Programs\\Microsoft VS Code\\resources\\app\\out\\vs\\workbench\\api\\node\\extensionHostProcess.js:79:13940)\n\tat MessagePortMain.<anonymous> (c:\\Users\\pedro\\AppData\\Local\\Programs\\Microsoft VS Code\\resources\\app\\out\\vs\\workbench\\api\\node\\extensionHostProcess.js:135:6181)\n\tat MessagePortMain.emit (node:events:513:28)\n\tat MessagePortMain._internalPort.emit (node:electron/js2c/utility_init:2:367)"
      },
      "application/vnd.jupyter.widget-view+json": {
       "model_id": "10c6feb9-2454-4656-bba0-ece47f008442",
       "version_major": 2,
       "version_minor": 0
      }
     },
     "metadata": {},
     "output_type": "display_data"
    }
   ],
   "source": [
    "SELECT * FROM Recipes LIMIT 10;"
   ]
  },
  {
   "cell_type": "code",
   "execution_count": 6,
   "metadata": {
    "scrolled": true,
    "vscode": {
     "languageId": "sql"
    }
   },
   "outputs": [
    {
     "data": {
      "application/vnd.code.notebook.error": {
       "message": "INVALID mime type: method. Must be in the format \"type/subtype[;optionalparameter]\"",
       "name": "Error",
       "stack": "Error: INVALID mime type: method. Must be in the format \"type/subtype[;optionalparameter]\"\n\tat new Gt (c:\\Users\\pedro\\AppData\\Local\\Programs\\Microsoft VS Code\\resources\\app\\out\\vs\\workbench\\api\\node\\extensionHostProcess.js:103:44713)\n\tat Gt.text (c:\\Users\\pedro\\AppData\\Local\\Programs\\Microsoft VS Code\\resources\\app\\out\\vs\\workbench\\api\\node\\extensionHostProcess.js:103:44525)\n\tat c (c:\\Users\\pedro\\AppData\\Local\\Programs\\Microsoft VS Code\\resources\\app\\extensions\\ipynb\\dist\\ipynbMain.js:1:143076)\n\tat f (c:\\Users\\pedro\\AppData\\Local\\Programs\\Microsoft VS Code\\resources\\app\\extensions\\ipynb\\dist\\ipynbMain.js:1:143852)\n\tat h (c:\\Users\\pedro\\AppData\\Local\\Programs\\Microsoft VS Code\\resources\\app\\extensions\\ipynb\\dist\\ipynbMain.js:1:144591)\n\tat Array.map (<anonymous>)\n\tat c:\\Users\\pedro\\AppData\\Local\\Programs\\Microsoft VS Code\\resources\\app\\extensions\\ipynb\\dist\\ipynbMain.js:1:145700\n\tat c:\\Users\\pedro\\AppData\\Local\\Programs\\Microsoft VS Code\\resources\\app\\extensions\\ipynb\\dist\\ipynbMain.js:1:146017\n\tat c:\\Users\\pedro\\AppData\\Local\\Programs\\Microsoft VS Code\\resources\\app\\extensions\\ipynb\\dist\\ipynbMain.js:1:146024\n\tat Array.map (<anonymous>)\n\tat e.$d (c:\\Users\\pedro\\AppData\\Local\\Programs\\Microsoft VS Code\\resources\\app\\extensions\\ipynb\\dist\\ipynbMain.js:1:145276)\n\tat e.$m.deserializeNotebook (c:\\Users\\pedro\\AppData\\Local\\Programs\\Microsoft VS Code\\resources\\app\\extensions\\ipynb\\dist\\ipynbMain.js:1:156884)\n\tat t.$dataToNotebook (c:\\Users\\pedro\\AppData\\Local\\Programs\\Microsoft VS Code\\resources\\app\\out\\vs\\workbench\\api\\node\\extensionHostProcess.js:109:91559)\n\tat i.N (c:\\Users\\pedro\\AppData\\Local\\Programs\\Microsoft VS Code\\resources\\app\\out\\vs\\workbench\\api\\node\\extensionHostProcess.js:116:10813)\n\tat i.M (c:\\Users\\pedro\\AppData\\Local\\Programs\\Microsoft VS Code\\resources\\app\\out\\vs\\workbench\\api\\node\\extensionHostProcess.js:116:10579)\n\tat i.H (c:\\Users\\pedro\\AppData\\Local\\Programs\\Microsoft VS Code\\resources\\app\\out\\vs\\workbench\\api\\node\\extensionHostProcess.js:116:9621)\n\tat i.G (c:\\Users\\pedro\\AppData\\Local\\Programs\\Microsoft VS Code\\resources\\app\\out\\vs\\workbench\\api\\node\\extensionHostProcess.js:116:8875)\n\tat n.value (c:\\Users\\pedro\\AppData\\Local\\Programs\\Microsoft VS Code\\resources\\app\\out\\vs\\workbench\\api\\node\\extensionHostProcess.js:116:7566)\n\tat m.w (c:\\Users\\pedro\\AppData\\Local\\Programs\\Microsoft VS Code\\resources\\app\\out\\vs\\workbench\\api\\node\\extensionHostProcess.js:63:1902)\n\tat m.fire (c:\\Users\\pedro\\AppData\\Local\\Programs\\Microsoft VS Code\\resources\\app\\out\\vs\\workbench\\api\\node\\extensionHostProcess.js:63:2119)\n\tat w.fire (c:\\Users\\pedro\\AppData\\Local\\Programs\\Microsoft VS Code\\resources\\app\\out\\vs\\workbench\\api\\node\\extensionHostProcess.js:79:13940)\n\tat n.value (c:\\Users\\pedro\\AppData\\Local\\Programs\\Microsoft VS Code\\resources\\app\\out\\vs\\workbench\\api\\node\\extensionHostProcess.js:135:7901)\n\tat m.w (c:\\Users\\pedro\\AppData\\Local\\Programs\\Microsoft VS Code\\resources\\app\\out\\vs\\workbench\\api\\node\\extensionHostProcess.js:63:1902)\n\tat m.fire (c:\\Users\\pedro\\AppData\\Local\\Programs\\Microsoft VS Code\\resources\\app\\out\\vs\\workbench\\api\\node\\extensionHostProcess.js:63:2119)\n\tat w.fire (c:\\Users\\pedro\\AppData\\Local\\Programs\\Microsoft VS Code\\resources\\app\\out\\vs\\workbench\\api\\node\\extensionHostProcess.js:79:13940)\n\tat MessagePortMain.<anonymous> (c:\\Users\\pedro\\AppData\\Local\\Programs\\Microsoft VS Code\\resources\\app\\out\\vs\\workbench\\api\\node\\extensionHostProcess.js:135:6181)\n\tat MessagePortMain.emit (node:events:513:28)\n\tat MessagePortMain._internalPort.emit (node:electron/js2c/utility_init:2:367)"
      },
      "application/vnd.jupyter.widget-view+json": {
       "model_id": "7840e179-1311-409f-9ecf-6689a574ee1d",
       "version_major": 2,
       "version_minor": 0
      }
     },
     "metadata": {},
     "output_type": "display_data"
    }
   ],
   "source": [
    "SELECT * FROM Intake LIMIT 10;"
   ]
  },
  {
   "cell_type": "markdown",
   "metadata": {},
   "source": [
    "# Métricas\n",
    "\n",
    "Considere que a tabela Intake registra alimentos consumidos por 1.489 pessoas. Considere as seguintes métricas para um alimento:\n",
    "\n",
    "| Métrica | Descrição |\n",
    "| --- | --- |\n",
    "| Popularidade | número de pessoas (dentre as 1.489) que consumiram o alimento |\n",
    "| Intake_Sum | total consumido do alimento pelas 1.489 pessoas em gramas |\n",
    "| Intake_AVG | média de consumo do alimento em gramas |\n",
    "| Intake_AVG_BW | média de consumo do alimento x peso da pessoa |\n",
    "| Recipes | número de receitas (dentre as 7.154 receitas) que têm o produto como ingrediente |"
   ]
  },
  {
   "cell_type": "markdown",
   "metadata": {},
   "source": [
    "## 1)  Construa uma View que apresente essas métricas por produto\n",
    "\n",
    "* Veja exemplo em: `/data/food-intake/computed/commodity-profile.csv`\n",
    "* Importante: esta tabela foi feita com um número maior de registros, portanto os valores não serão iguais aos seus"
   ]
  },
  {
   "cell_type": "code",
   "execution_count": null,
   "metadata": {
    "vscode": {
     "languageId": "sql"
    }
   },
   "outputs": [],
   "source": [
    "CREATE VIEW Food_Metrics AS\n",
    "SELECT \n",
    "  p.FCID_Code,\n",
    "  p.Popularidade,\n",
    "  i_s.Intake_Sum,\n",
    "  i_a.Intake_AVG,\n",
    "  i_abw.Intake_AVG_BW,\n",
    "  r.Recipes\n",
    "FROM \n",
    "  (SELECT FCID_Code, COUNT(DISTINCT SeqN) AS Popularidade FROM Intake GROUP BY FCID_Code) p\n",
    "JOIN\n",
    "  (SELECT FCID_Code, SUM(Intake) AS Intake_Sum FROM Intake GROUP BY FCID_Code) i_s ON p.FCID_Code = i_s.FCID_Code\n",
    "JOIN\n",
    "  (SELECT FCID_Code, AVG(Intake) AS Intake_AVG FROM Intake GROUP BY FCID_Code) i_a ON p.FCID_Code = i_a.FCID_Code\n",
    "JOIN\n",
    "  (SELECT FCID_Code, AVG(Intake_BW) AS Intake_AVG_BW FROM Intake GROUP BY FCID_Code) i_ab ON  p.FCID_Code = i_abw.FCID_Code\n",
    "JOIN\n",
    "  (SELECT FCID_Code, COUNT(*) AS Recipes FROM Recipes GROUP BY FCID_Code) r ON  p.FCID_Code = r.FCID_Code;\n",
    "  \n",
    "SELECT \n",
    "  i.FCID_Code,\n",
    "  COUNT(DISTINCT SeqN) AS Popularidade,\n",
    "  SUM(i.Intake) as Intake_Sum,\n",
    "  AVG(i.Intake) AS Intake_AVG,\n",
    "  AVG(i.Intake_BW) AS Intake_AVG_BW,\n",
    "  COUNT(r.Food_Code) AS Recipes\n",
    "FROM \n",
    "    Intake i\n",
    "JOIN  Recipes r ON r.FCID_Code = i.FCID_Code\n",
    "GROUP BY i.FCID_Code"
   ]
  },
  {
   "cell_type": "markdown",
   "metadata": {},
   "source": [
    "## 2) Como você analisaria a correlação entre as métricas?\n",
    "\n",
    "* Por exemplo, produtos mais populares são mais consumidos (em número de pessoas ou em quantidade)?\n",
    "* Proponha uma ou mais queries para fazer esta análise"
   ]
  },
  {
   "cell_type": "code",
   "execution_count": null,
   "metadata": {
    "vscode": {
     "languageId": "sql"
    }
   },
   "outputs": [],
   "source": [
    "--Para analisar a correlação entre as métricas, podemos usar a função CORR() do SQL, que retorna o coeficiente de correlação de Pearson entre duas colunas. O coeficiente de correlação varia de -1 a 1. Um valor próximo de 1 implica uma forte correlação positiva, enquanto um valor próximo de -1 implica uma forte correlação negativa. Um valor próximo de 0 implica que não há correlação.\n",
    "--Exemplos de algumas consultas que analisam a correlação entre as métricas:\n",
    "--1. Correlação entre a popularidade de um produto e a quantidade total consumida:\n",
    "SELECT CORR(Popularidade, Intake_Sum) AS Correlation FROM Food_Metrics;\n",
    "--2. Correlação entre a popularidade de um produto e a média de consumo:\n",
    "SELECT CORR(Popularidade, Intake_AVG) AS Correlation FROM Food_Metrics;\n",
    "--3. Correlação entre a popularidade de um produto e o número de receitas em que é usado:\n",
    "SELECT CORR(Popularidade, Recipes) AS Correlation FROM Food_Metrics;"
   ]
  },
  {
   "cell_type": "markdown",
   "metadata": {},
   "source": [
    "## 3) Podemos criar grupos de consumidores conforme um perfil?\n",
    "* por exemplo, consumidores podem ser agrupados por alimentos que comem predominantemente?\n",
    "* como você associaria grupos a classes?"
   ]
  },
  {
   "cell_type": "code",
   "execution_count": null,
   "metadata": {
    "vscode": {
     "languageId": "sql"
    }
   },
   "outputs": [],
   "source": [
    "-- Sim, é possível agrupar consumidores com base em seus padrões de consumo de alimentos.\n",
    "-- Com uma análise simples usando aSQL, poderíamos agrupar os consumidores com base no alimento que mais consomem:\n",
    "SELECT SeqN, FCID_Code, MAX(Intake) as Max_Intake\n",
    "FROM Intake\n",
    "GROUP BY SeqN;\n",
    "-- A consulta retorna o alimento que cada consumidor consome mais (em termos de gramas).E então agrupar os consumidores com base neste alimento.\n",
    "-- Poderíamos associar os grupos a classe com base em algum tipo de critério ou regra dentro de padrões de consumo estabelecidos."
   ]
  },
  {
   "cell_type": "markdown",
   "metadata": {},
   "source": [
    "## 4) Que métricas podem ser analisadas para a comparação de perfis?\n",
    "* escreva uma query SQL que calcule pelo menos uma métrica comparativa"
   ]
  },
  {
   "cell_type": "code",
   "execution_count": null,
   "metadata": {
    "vscode": {
     "languageId": "sql"
    }
   },
   "outputs": [],
   "source": [
    "-- Calcula a diversidade de alimentos consumidos por cada consumidor:\n",
    "\n",
    "SELECT SeqN, COUNT(DISTINCT FCID_Code) as Food_Diversity\n",
    "FROM Intake\n",
    "GROUP BY SeqN;"
   ]
  }
 ],
 "metadata": {
  "kernelspec": {
   "display_name": "SQL",
   "language": "SQL",
   "name": "sql"
  },
  "language_info": {
   "codemirror_mode": "sql",
   "file_extension": ".sql",
   "mimetype": "",
   "name": "SQL",
   "nbconverter_exporter": "",
   "version": ""
  },
  "toc": {
   "base_numbering": 1,
   "nav_menu": {},
   "number_sections": false,
   "sideBar": false,
   "skip_h1_title": false,
   "title_cell": "Table of Contents",
   "title_sidebar": "Contents",
   "toc_cell": false,
   "toc_position": {},
   "toc_section_display": false,
   "toc_window_display": false
  }
 },
 "nbformat": 4,
 "nbformat_minor": 2
}
